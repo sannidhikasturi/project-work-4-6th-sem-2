{
 "cells": [
  {
   "cell_type": "code",
   "execution_count": 2,
   "metadata": {},
   "outputs": [],
   "source": [
    "import json"
   ]
  },
  {
   "cell_type": "code",
   "execution_count": 15,
   "metadata": {},
   "outputs": [],
   "source": [
    "# police=json.load(open('./india-state.geojson','r'))\n",
    "\n",
    "# police={\n",
    "#     'type': police['type'],\n",
    "#     'name': 'Police Precincts',\n",
    "#     'features': [{'properties': {'state_name': pol['properties']['NAME_1'].upper(),'id': pol['properties']['ID_1']},'geometry': pol['geometry']} for pol in police['features']]\n",
    "# }\n",
    "# json_object = json.dumps(police)\n",
    "\n",
    "states=json.load(open('./india-state.geojson','r'))\n",
    "districts=json.load(open('./india-district.geojson','r'))\n",
    "li=[]\n",
    "for ele in states['features']:\n",
    "    li.append(ele['properties']['NAME_1'])\n",
    "dict1={}\n",
    "for dist in districts['features']:\n",
    "    # print(dist['properties'])\n",
    "    if not dict1.__contains__(dist['properties']['NAME_1'].upper()):\n",
    "        dict1[dist['properties']['NAME_1'].upper()]={\n",
    "            'name': 'Districts',\n",
    "            'features': []\n",
    "        }\n",
    "    dict1[dist['properties']['NAME_1'].upper()]['features'].append({'properties': {'district': dist['properties']['NAME_2'].upper(),'id': dist['properties']['ID_2']},'geometry': dist['geometry']})\n",
    "json_object = json.dumps(dict1)\n",
    "# print(dict1['ANDAMAN AND NICOBAR']['features'][0]['properties'])\n",
    "# print(districts['features'][0]['properties'],districts['features'][1]['properties'])\n",
    "# Writing to sample.json\n",
    "with open(\"./india-state-district.geojson\", \"w\") as outfile:\n",
    "    outfile.write(json_object)"
   ]
  }
 ],
 "metadata": {
  "kernelspec": {
   "display_name": "Python 3.10.5 64-bit",
   "language": "python",
   "name": "python3"
  },
  "language_info": {
   "codemirror_mode": {
    "name": "ipython",
    "version": 3
   },
   "file_extension": ".py",
   "mimetype": "text/x-python",
   "name": "python",
   "nbconvert_exporter": "python",
   "pygments_lexer": "ipython3",
   "version": "3.10.5"
  },
  "orig_nbformat": 4,
  "vscode": {
   "interpreter": {
    "hash": "52634da84371cba311ea128a5ea7cdc41ff074b781779e754b270ff9f8153cee"
   }
  }
 },
 "nbformat": 4,
 "nbformat_minor": 2
}
