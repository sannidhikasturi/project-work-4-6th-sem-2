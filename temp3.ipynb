{
 "cells": [
  {
   "cell_type": "code",
   "execution_count": 2,
   "metadata": {},
   "outputs": [],
   "source": [
    "import pandas as pd\n",
    "import numpy as np"
   ]
  },
  {
   "cell_type": "code",
   "execution_count": 14,
   "metadata": {},
   "outputs": [],
   "source": [
    "df=pd.read_csv('./01_District_wise_crimes_committed_IPC_2001_2012.csv')\n",
    "dict1={}\n",
    "for state in df['STATE/UT'].unique():\n",
    "    dict1[state]={}\n",
    "for state in dict1.keys():\n",
    "    for index,row in df[df['STATE/UT']==state].iterrows():\n",
    "        if not dict1[state].__contains__(row['DISTRICT']):\n",
    "            dict1[state][row['DISTRICT']]=row[3:]\n",
    "        else:\n",
    "            dict1[state][row['DISTRICT']]+=row[3:]\n",
    "            # print(dict1)\n",
    "            # break\n",
    "    # break\n",
    "for state in dict1.keys():\n",
    "    df1=pd.DataFrame(dict1[state])\n",
    "    df1=df1.transpose()\n",
    "    df1.to_csv('./crime-data/'+state+'.csv')\n",
    "# len(df[df['STATE/UT']=='ANDHRA PRADESH'])"
   ]
  },
  {
   "cell_type": "code",
   "execution_count": 16,
   "metadata": {},
   "outputs": [],
   "source": [
    "\n",
    "l = {\n",
    "    'as': 'Assault',\n",
    "    'ac': 'Accident',\n",
    "    'tf': 'Traffic Law',\n",
    "    'ht': 'Human Trafficking',\n",
    "    'ar': 'Arson',\n",
    "    'd': 'Drugs',\n",
    "    'mi': 'Missing',\n",
    "    'mu': 'Murder',\n",
    "    'p': 'Public Nuisance',\n",
    "    't': 'Theft',\n",
    "    'r': 'Robbery',\n",
    "    'g': 'Gun Violence',\n",
    "    's': 'Sex Crime',\n",
    "    'f': 'Fraud',\n",
    "    'o': 'Others',\n",
    "    'h': 'Harrassment',\n",
    "    'cc': 'Child Crime',\n",
    "}\n",
    "\n",
    "temp={\n",
    "    'MURDER' : l['mu'],\n",
    "    'ATTEMPT TO MURDER' : l['mu'],\n",
    "    'CULPABLE HOMICIDE NOT AMOUNTING TO MURDER': l['mu'],\n",
    "    'RAPE': l['s'],\n",
    "    'CUSTODIAL RAPE': l['s'],\n",
    "    'OTHER RAPE': l['s'],\n",
    "    'KIDNAPPING & ABDUCTION': l['mi'],\n",
    "    'KIDNAPPING AND ABDUCTION OF WOMEN AND GIRLS': l['mi'],\n",
    "    'KIDNAPPING AND ABDUCTION OF OTHERS': l['mi'],\n",
    "    'DACOITY': l['r'],\n",
    "    'PREPARATION AND ASSEMBLY FOR DACOITY': l['r'],\n",
    "    'ROBBERY': l['r'],\n",
    "    'BURGLARY': l['r'],\n",
    "    'THEFT': l['t'],\n",
    "    'AUTO THEFT': l['t'],\n",
    "    'OTHER THEFT': l['t'],\n",
    "    'RIOTS': l['p'],\n",
    "    'CRIMINAL BREACH OF TRUST': l['f'],\n",
    "    'CHEATING': l['f'],\n",
    "    'COUNTERFIETING': l['f'],\n",
    "    'ARSON': l['ar'],\n",
    "    'HURT/GREVIOUS HURT': l['g'],\n",
    "    'DOWRY DEATHS': l['mu'],\n",
    "    'ASSAULT ON WOMEN WITH INTENT TO OUTRAGE HER MODESTY': l['as'],\n",
    "    'INSULT TO MODESTY OF WOMEN': l['h'],\n",
    "    'CRUELTY BY HUSBAND OR HIS RELATIVES': l['h'],\n",
    "    'IMPORTATION OF GIRLS FROM FOREIGN COUNTRIES': l['ht'],\n",
    "    'CAUSING DEATH BY NEGLIGENCE': l['ac'],\n",
    "    'OTHER IPC CRIMES': l['o'],\n",
    "}"
   ]
  },
  {
   "cell_type": "code",
   "execution_count": 14,
   "metadata": {},
   "outputs": [],
   "source": [
    "df=pd.read_csv('./crime-data/india.csv')\n",
    "dict1={}\n",
    "for col in df.columns[3:len(df.columns)-1]:\n",
    "    if temp[col] not in dict1:\n",
    "        dict1[temp[col]]=0\n",
    "    dict1[temp[col]]+=df[col]\n",
    "\n",
    "df1=pd.DataFrame(dict1)\n",
    "df1['total']=df['TOTAL IPC CRIMES']\n",
    "df1.insert(0,'STATE/UT',df['STATE/UT'])\n",
    "df1.to_csv('./crime-data/india.csv',index=False)"
   ]
  },
  {
   "cell_type": "code",
   "execution_count": 20,
   "metadata": {},
   "outputs": [],
   "source": [
    "x=None\n",
    "for state in df['STATE/UT']:\n",
    "    temp2=pd.read_csv('./crime-data/'+state+'.csv')\n",
    "    dict1={}\n",
    "    for col in temp2.columns[3:len(temp2.columns)-1]:\n",
    "        if temp[col] not in dict1:\n",
    "            dict1[temp[col]]=0\n",
    "        dict1[temp[col]]+=temp2[col]\n",
    "\n",
    "    df1=pd.DataFrame(dict1)\n",
    "    df1['total']=temp2['TOTAL IPC CRIMES']\n",
    "    df1.insert(0,'DISTRICT',temp2.iloc[:,0])\n",
    "    df1.to_csv('./crime-data/'+state+'.csv',index=False)"
   ]
  }
 ],
 "metadata": {
  "kernelspec": {
   "display_name": "Python 3.10.5 64-bit",
   "language": "python",
   "name": "python3"
  },
  "language_info": {
   "codemirror_mode": {
    "name": "ipython",
    "version": 3
   },
   "file_extension": ".py",
   "mimetype": "text/x-python",
   "name": "python",
   "nbconvert_exporter": "python",
   "pygments_lexer": "ipython3",
   "version": "3.10.5"
  },
  "orig_nbformat": 4,
  "vscode": {
   "interpreter": {
    "hash": "52634da84371cba311ea128a5ea7cdc41ff074b781779e754b270ff9f8153cee"
   }
  }
 },
 "nbformat": 4,
 "nbformat_minor": 2
}
