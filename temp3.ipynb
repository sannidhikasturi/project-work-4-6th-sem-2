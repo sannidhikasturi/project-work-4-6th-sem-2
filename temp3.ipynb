{
 "cells": [
  {
   "cell_type": "code",
   "execution_count": 1,
   "metadata": {},
   "outputs": [],
   "source": [
    "import pandas as pd\n",
    "import numpy as np"
   ]
  },
  {
   "cell_type": "code",
   "execution_count": 14,
   "metadata": {},
   "outputs": [],
   "source": [
    "df=pd.read_csv('./01_District_wise_crimes_committed_IPC_2001_2012.csv')\n",
    "dict1={}\n",
    "for state in df['STATE/UT'].unique():\n",
    "    dict1[state]={}\n",
    "for state in dict1.keys():\n",
    "    for index,row in df[df['STATE/UT']==state].iterrows():\n",
    "        if not dict1[state].__contains__(row['DISTRICT']):\n",
    "            dict1[state][row['DISTRICT']]=row[3:]\n",
    "        else:\n",
    "            dict1[state][row['DISTRICT']]+=row[3:]\n",
    "            # print(dict1)\n",
    "            # break\n",
    "    # break\n",
    "for state in dict1.keys():\n",
    "    df1=pd.DataFrame(dict1[state])\n",
    "    df1=df1.transpose()\n",
    "    df1.to_csv('./crime-data/'+state+'.csv')\n",
    "# len(df[df['STATE/UT']=='ANDHRA PRADESH'])"
   ]
  }
 ],
 "metadata": {
  "kernelspec": {
   "display_name": "Python 3.10.5 64-bit",
   "language": "python",
   "name": "python3"
  },
  "language_info": {
   "codemirror_mode": {
    "name": "ipython",
    "version": 3
   },
   "file_extension": ".py",
   "mimetype": "text/x-python",
   "name": "python",
   "nbconvert_exporter": "python",
   "pygments_lexer": "ipython3",
   "version": "3.10.5"
  },
  "orig_nbformat": 4,
  "vscode": {
   "interpreter": {
    "hash": "52634da84371cba311ea128a5ea7cdc41ff074b781779e754b270ff9f8153cee"
   }
  }
 },
 "nbformat": 4,
 "nbformat_minor": 2
}
