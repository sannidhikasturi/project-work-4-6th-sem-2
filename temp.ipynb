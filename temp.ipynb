{
 "cells": [
  {
   "cell_type": "code",
   "execution_count": 10,
   "metadata": {},
   "outputs": [],
   "source": [
    "import pandas as pd\n",
    "import numpy as np"
   ]
  },
  {
   "cell_type": "code",
   "execution_count": 14,
   "metadata": {},
   "outputs": [],
   "source": [
    "df=pd.read_csv('./01_District_wise_crimes_committed_IPC_2001_2012.csv')\n",
    "dict1={}\n",
    "# print(df.columns)\n",
    "# for state in df['STATE/UT'].unique():\n",
    "#     dict1[state]={}\n",
    "for index,row in df.iterrows():\n",
    "    for ele in df.columns[3:]:\n",
    "        if not dict1.__contains__(row['STATE/UT']):\n",
    "            dict1[row['STATE/UT']]={}\n",
    "        if not dict1[row['STATE/UT']].__contains__(ele):\n",
    "            dict1[row['STATE/UT']][ele]=0\n",
    "        dict1[row['STATE/UT']][ele]+=row[ele]\n",
    "df=pd.DataFrame(dict1)\n",
    "df=df.transpose()\n",
    "df\n",
    "df.to_csv('./crime-data/india.csv')"
   ]
  },
  {
   "cell_type": "code",
   "execution_count": 11,
   "metadata": {},
   "outputs": [],
   "source": [
    "import plotly.express as px\n",
    "import plotly.io as pio\n",
    "import json\n",
    "pio.renderers.default='chrome'\n",
    "# precincts=json.load(open('./india-state-1.geojson','r'))\n",
    "# df=pd.read_csv('./crime-data/india.csv')"
   ]
  },
  {
   "cell_type": "code",
   "execution_count": 9,
   "metadata": {},
   "outputs": [],
   "source": [
    "fig=px.choropleth_mapbox(df,locations='STATE/UT',featureidkey=\"properties.state_name\",geojson=precincts,color='MURDER',zoom=4,color_continuous_scale='ylorrd')\n",
    "fig.update_geos(fitbounds=\"locations\", visible=False)\n",
    "fig.update_layout(mapbox_style=\"carto-positron\",\n",
    "                  mapbox_center={\"lat\": 20.5937, \"lon\": 78.9629},\n",
    "                  margin={\"r\":0,\"t\":0,\"l\":0,\"b\":0},\n",
    "                  uirevision='constant')\n",
    "fig.write_html('first_figure2.html')"
   ]
  },
  {
   "cell_type": "code",
   "execution_count": 149,
   "metadata": {},
   "outputs": [],
   "source": [
    "df=pd.read_csv('./crime-data/KERALA.csv')\n",
    "precincts=json.load(open('./india-state-district.geojson','r'))['KERALA']\n",
    "li1=[precinct['properties']['district'] for precinct in precincts['features']]\n",
    "li2=df['DISTRICT']\n",
    "df=df[df['DISTRICT']!='TOTAL']\n",
    "fig=px.choropleth_mapbox(df,locations=\"DISTRICT\",featureidkey=\"properties.district\",geojson=precincts,color='Murder',zoom=6,color_continuous_scale='ylorrd')\n",
    "fig.update_geos(fitbounds=\"locations\", visible=False)\n",
    "co=precincts['features'][0]['geometry']['coordinates'][0][0][0]\n",
    "fig.update_layout(mapbox_style=\"carto-positron\",\n",
    "                  mapbox_center={\"lat\": co[1], \"lon\": co[0]},\n",
    "                  margin={\"r\":0,\"t\":0,\"l\":0,\"b\":0},\n",
    "                  uirevision='constant')\n",
    "fig.write_html('first_figure3.html')"
   ]
  },
  {
   "cell_type": "code",
   "execution_count": 150,
   "metadata": {},
   "outputs": [
    {
     "name": "stdout",
     "output_type": "stream",
     "text": [
      "['ALAPPUZHA', 'ERNAKULAM', 'IDUKKI', 'KANNUR', 'KASARAGOD', 'KOLLAM', 'KOTTAYAM', 'KOZHIKODE', 'MALAPPURAM', 'PALAKKAD', 'PATHANAMTHITTA', 'THIRUVANANTHAPURAM', 'THRISSUR', 'WAYANAD'] 14\n",
      "CBCID\n",
      "RAILWAYS\n",
      "TOTAL\n",
      "ERNAKULAM COMMR.\n",
      "ERNAKULAM RURAL\n",
      "KOZHIKODE COMMR.\n",
      "KOZHIKODE RURAL\n",
      "TRIVANDRUM COMMR.\n",
      "TRIVANDRUM RURAL\n",
      "KOLLAM COMMR.\n",
      "KOLLAM RURAL\n",
      "THRISSUR COMMR.\n",
      "THRISSUR RURAL\n"
     ]
    }
   ],
   "source": [
    "print(li1,len(li1))\n",
    "# print(list(li2),len(li2))\n",
    "for ele in li2:\n",
    "    if ele not in li1:\n",
    "        print(ele)"
   ]
  }
 ],
 "metadata": {
  "kernelspec": {
   "display_name": "Python 3.10.5 64-bit",
   "language": "python",
   "name": "python3"
  },
  "language_info": {
   "codemirror_mode": {
    "name": "ipython",
    "version": 3
   },
   "file_extension": ".py",
   "mimetype": "text/x-python",
   "name": "python",
   "nbconvert_exporter": "python",
   "pygments_lexer": "ipython3",
   "version": "3.10.5"
  },
  "orig_nbformat": 4,
  "vscode": {
   "interpreter": {
    "hash": "52634da84371cba311ea128a5ea7cdc41ff074b781779e754b270ff9f8153cee"
   }
  }
 },
 "nbformat": 4,
 "nbformat_minor": 2
}
