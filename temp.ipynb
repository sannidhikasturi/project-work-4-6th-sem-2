{
 "cells": [
  {
   "cell_type": "code",
   "execution_count": 2,
   "metadata": {},
   "outputs": [],
   "source": [
    "import pandas as pd\n",
    "import numpy as np"
   ]
  },
  {
   "cell_type": "code",
   "execution_count": 14,
   "metadata": {},
   "outputs": [],
   "source": [
    "df=pd.read_csv('./01_District_wise_crimes_committed_IPC_2001_2012.csv')\n",
    "dict1={}\n",
    "# print(df.columns)\n",
    "# for state in df['STATE/UT'].unique():\n",
    "#     dict1[state]={}\n",
    "for index,row in df.iterrows():\n",
    "    for ele in df.columns[3:]:\n",
    "        if not dict1.__contains__(row['STATE/UT']):\n",
    "            dict1[row['STATE/UT']]={}\n",
    "        if not dict1[row['STATE/UT']].__contains__(ele):\n",
    "            dict1[row['STATE/UT']][ele]=0\n",
    "        dict1[row['STATE/UT']][ele]+=row[ele]\n",
    "df=pd.DataFrame(dict1)\n",
    "df=df.transpose()\n",
    "df\n",
    "df.to_csv('./crime-data/india.csv')"
   ]
  },
  {
   "cell_type": "code",
   "execution_count": 26,
   "metadata": {},
   "outputs": [
    {
     "name": "stdout",
     "output_type": "stream",
     "text": [
      "Index(['STATE/UT', 'MURDER', 'ATTEMPT TO MURDER',\n",
      "       'CULPABLE HOMICIDE NOT AMOUNTING TO MURDER', 'RAPE', 'CUSTODIAL RAPE',\n",
      "       'OTHER RAPE', 'KIDNAPPING & ABDUCTION',\n",
      "       'KIDNAPPING AND ABDUCTION OF WOMEN AND GIRLS',\n",
      "       'KIDNAPPING AND ABDUCTION OF OTHERS', 'DACOITY',\n",
      "       'PREPARATION AND ASSEMBLY FOR DACOITY', 'ROBBERY', 'BURGLARY', 'THEFT',\n",
      "       'AUTO THEFT', 'OTHER THEFT', 'RIOTS', 'CRIMINAL BREACH OF TRUST',\n",
      "       'CHEATING', 'COUNTERFIETING', 'ARSON', 'HURT/GREVIOUS HURT',\n",
      "       'DOWRY DEATHS', 'ASSAULT ON WOMEN WITH INTENT TO OUTRAGE HER MODESTY',\n",
      "       'INSULT TO MODESTY OF WOMEN', 'CRUELTY BY HUSBAND OR HIS RELATIVES',\n",
      "       'IMPORTATION OF GIRLS FROM FOREIGN COUNTRIES',\n",
      "       'CAUSING DEATH BY NEGLIGENCE', 'OTHER IPC CRIMES', 'TOTAL IPC CRIMES'],\n",
      "      dtype='object')\n"
     ]
    }
   ],
   "source": [
    "import plotly.express as px\n",
    "import plotly.io as pio\n",
    "import json\n",
    "pio.renderers.default='chrome'\n",
    "precincts=json.load(open('./india-state-1.geojson','r'))\n",
    "df=pd.read_csv('./crime-data/india.csv')\n",
    "print(df.columns)"
   ]
  },
  {
   "cell_type": "code",
   "execution_count": 25,
   "metadata": {},
   "outputs": [],
   "source": [
    "fig=px.choropleth_mapbox(df,locations='STATE/UT',featureidkey=\"properties.state_name\",geojson=precincts,color='RAPE',zoom=4,color_continuous_scale='ylorrd')\n",
    "fig.update_geos(fitbounds=\"locations\", visible=False)\n",
    "fig.update_layout(mapbox_style=\"carto-positron\",\n",
    "                  mapbox_center={\"lat\": 20.5937, \"lon\": 78.9629},\n",
    "                  margin={\"r\":0,\"t\":0,\"l\":0,\"b\":0},\n",
    "                  uirevision='constant')\n",
    "fig.write_html('first_figure2.html')"
   ]
  }
 ],
 "metadata": {
  "kernelspec": {
   "display_name": "Python 3.10.5 64-bit",
   "language": "python",
   "name": "python3"
  },
  "language_info": {
   "codemirror_mode": {
    "name": "ipython",
    "version": 3
   },
   "file_extension": ".py",
   "mimetype": "text/x-python",
   "name": "python",
   "nbconvert_exporter": "python",
   "pygments_lexer": "ipython3",
   "version": "3.10.5"
  },
  "orig_nbformat": 4,
  "vscode": {
   "interpreter": {
    "hash": "52634da84371cba311ea128a5ea7cdc41ff074b781779e754b270ff9f8153cee"
   }
  }
 },
 "nbformat": 4,
 "nbformat_minor": 2
}
